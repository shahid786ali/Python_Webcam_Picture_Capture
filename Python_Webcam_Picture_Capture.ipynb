{
 "cells": [
  {
   "cell_type": "code",
   "execution_count": 2,
   "id": "b3053468",
   "metadata": {},
   "outputs": [
    {
     "name": "stdout",
     "output_type": "stream",
     "text": [
      "Picture saved successfully at captured_image.jpg\n"
     ]
    }
   ],
   "source": [
    "import cv2\n",
    "\n",
    "def take_picture_and_save(file_path):\n",
    "    # Open the webcam\n",
    "    camera = cv2.VideoCapture(0)\n",
    "\n",
    "    # Check if the camera is opened correctly\n",
    "    if not camera.isOpened():\n",
    "        print(\"Error: Could not open the camera.\")\n",
    "        camera.release()\n",
    "        return\n",
    "\n",
    "    # Capture a frame from the camera\n",
    "    ret, frame = camera.read()\n",
    "\n",
    "    # Check if the frame was captured successfully\n",
    "    if not ret:\n",
    "        print(\"Error: Could not capture a frame.\")\n",
    "        camera.release()\n",
    "        return\n",
    "\n",
    "    # Save the captured frame as an image\n",
    "    cv2.imwrite(file_path, frame)\n",
    "\n",
    "    print(f\"Picture saved successfully at {file_path}\")\n",
    "\n",
    "    # Release the camera\n",
    "    camera.release()\n",
    "\n",
    "if __name__ == \"__main__\":\n",
    "    # Specify the file path where you want to save the image\n",
    "    file_path = \"captured_image.jpg\"\n",
    "    take_picture_and_save(file_path)\n"
   ]
  },
  {
   "cell_type": "code",
   "execution_count": null,
   "id": "ab4309c2",
   "metadata": {},
   "outputs": [],
   "source": []
  },
  {
   "cell_type": "code",
   "execution_count": null,
   "id": "32719d86",
   "metadata": {},
   "outputs": [],
   "source": []
  }
 ],
 "metadata": {
  "kernelspec": {
   "display_name": "Python 3",
   "language": "python",
   "name": "python3"
  },
  "language_info": {
   "codemirror_mode": {
    "name": "ipython",
    "version": 3
   },
   "file_extension": ".py",
   "mimetype": "text/x-python",
   "name": "python",
   "nbconvert_exporter": "python",
   "pygments_lexer": "ipython3",
   "version": "3.8.8"
  }
 },
 "nbformat": 4,
 "nbformat_minor": 5
}
